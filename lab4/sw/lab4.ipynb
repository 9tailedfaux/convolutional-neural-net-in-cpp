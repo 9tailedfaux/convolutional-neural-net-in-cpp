{
 "cells": [
  {
   "cell_type": "code",
   "execution_count": 14,
   "metadata": {},
   "outputs": [
    {
     "name": "stdout",
     "output_type": "stream",
     "text": [
      "Max weight: 0.3665749728679657\n",
      "Min weight: -1.3241188526153564\n"
     ]
    },
    {
     "data": {
      "image/png": "[encoded data removed]",
      "text/plain": [
       "<Figure size 432x288 with 1 Axes>"
      ]
     },
     "metadata": {
      "needs_background": "light"
     },
     "output_type": "display_data"
    },
    {
     "data": {
      "image/png": "[encoded data removed]",
      "text/plain": [
       "<Figure size 432x288 with 1 Axes>"
      ]
     },
     "metadata": {
      "needs_background": "light"
     },
     "output_type": "display_data"
    },
    {
     "name": "stdout",
     "output_type": "stream",
     "text": [
      "Max bias: 0.16357854008674622\n",
      "Min bias: -0.23974871635437012\n"
     ]
    }
   ],
   "source": [
    "import glob\n",
    "import matplotlib.pyplot as plt\n",
    "import numpy as np\n",
    "\n",
    "weights = []\n",
    "\n",
    "for filename in glob.glob('../../lab2/cpre487-587-dnn-framework-main/data/model/*weights.bin'):\n",
    "    f = open(filename, mode=\"rb\")\n",
    "\n",
    "    weights = np.fromfile(f, dtype=np.float32)\n",
    "    f.close()\n",
    "\n",
    "print(\"Max weight: {0}\".format(max(weights)))\n",
    "print(\"Min weight: {0}\".format(min(weights)))\n",
    "plt.hist(weights, bins=30, log=True)\n",
    "plt.show()\n",
    "plt.hist(weights, bins=30)\n",
    "plt.show()\n",
    "\n",
    "biases = []\n",
    "\n",
    "for filename in glob.glob('../../lab2/cpre487-587-dnn-framework-main/data/model/*biases.bin'):\n",
    "    f = open(filename, mode=\"rb\")\n",
    "\n",
    "    biases = np.fromfile(f, dtype=np.float32)\n",
    "    f.close()\n",
    "\n",
    "print(\"Max bias: {0}\".format(max(biases)))\n",
    "print(\"Min bias: {0}\".format(min(biases)))"
   ]
  },
  {
   "cell_type": "code",
   "execution_count": 68,
   "metadata": {},
   "outputs": [
    {
     "name": "stdout",
     "output_type": "stream",
     "text": [
      "Max activation: 255\n",
      "Min activation: 0\n"
     ]
    },
    {
     "data": {
      "image/png": "[encoded data removed]",
      "text/plain": [
       "<Figure size 432x288 with 1 Axes>"
      ]
     },
     "metadata": {
      "needs_background": "light"
     },
     "output_type": "display_data"
    }
   ],
   "source": [
    "from tiny_imagenet import TinyImagenetDataset\n",
    "\n",
    "tiny_imagenet_builder = TinyImagenetDataset()\n",
    "tiny_imagenet_builder.download_and_prepare(download_dir=\"~/tensorflow-datasets/downloads\")\n",
    "\n",
    "ds = tiny_imagenet_builder.as_dataset()[\"train\"]\n",
    "ds = ds.shuffle(1024)\n",
    "\n",
    "activations = []\n",
    "\n",
    "for image in ds.take(1000):\n",
    "    for act in image['image'].numpy().flatten():\n",
    "        #print(act)\n",
    "        activations.append(act)\n",
    "\n",
    "print(\"Max activation: {0}\".format(max(activations)))\n",
    "print(\"Min activation: {0}\".format(min(activations)))\n",
    "\n",
    "plt.hist(activations, bins=10)\n",
    "plt.show()"
   ]
  },
  {
   "cell_type": "code",
   "execution_count": null,
   "metadata": {},
   "outputs": [],
   "source": []
  }
 ],
 "metadata": {
  "kernelspec": {
   "display_name": "venv",
   "language": "python",
   "name": "python3"
  },
  "language_info": {
   "codemirror_mode": {
    "name": "ipython",
    "version": 3
   },
   "file_extension": ".py",
   "mimetype": "text/x-python",
   "name": "python",
   "nbconvert_exporter": "python",
   "pygments_lexer": "ipython3",
   "version": "3.6.8"
  },
  "orig_nbformat": 4
 },
 "nbformat": 4,
 "nbformat_minor": 2
}
