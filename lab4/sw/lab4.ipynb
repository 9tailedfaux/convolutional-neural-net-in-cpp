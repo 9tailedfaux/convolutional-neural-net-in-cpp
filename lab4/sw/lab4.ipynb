{
 "cells": [
  {
   "cell_type": "code",
   "execution_count": 14,
   "metadata": {},
   "outputs": [
    {
     "name": "stdout",
     "output_type": "stream",
     "text": [
      "Max weight: 0.3665749728679657\n",
      "Min weight: -1.3241188526153564\n"
     ]
    },
    {
     "data": {
      "image/png": "[encoded data removed]",
      "text/plain": [
       "<Figure size 432x288 with 1 Axes>"
      ]
     },
     "metadata": {
      "needs_background": "light"
     },
     "output_type": "display_data"
    },
    {
     "data": {
      "image/png": "[encoded data removed]",
      "text/plain": [
       "<Figure size 432x288 with 1 Axes>"
      ]
     },
     "metadata": {
      "needs_background": "light"
     },
     "output_type": "display_data"
    },
    {
     "name": "stdout",
     "output_type": "stream",
     "text": [
      "Max bias: 0.16357854008674622\n",
      "Min bias: -0.23974871635437012\n",
      "Max input: 1.0\n",
      "Min input: 0.0\n"
     ]
    },
    {
     "data": {
      "image/png": "[encoded data removed]",
      "text/plain": [
       "<Figure size 432x288 with 1 Axes>"
      ]
     },
     "metadata": {
      "needs_background": "light"
     },
     "output_type": "display_data"
    },
    {
     "data": {
      "image/png": "[encoded data removed]",
      "text/plain": [
       "<Figure size 432x288 with 1 Axes>"
      ]
     },
     "metadata": {
      "needs_background": "light"
     },
     "output_type": "display_data"
    }
   ],
   "source": [
    "import glob\n",
    "import matplotlib.pyplot as plt\n",
    "import numpy as np\n",
    "\n",
    "weights = []\n",
    "\n",
    "for filename in glob.glob('../../lab2/cpre487-587-dnn-framework-main/data/model/*weights.bin'):\n",
    "    f = open(filename, mode=\"rb\")\n",
    "\n",
    "    weights = np.fromfile(f, dtype=np.float32)\n",
    "    f.close()\n",
    "\n",
    "print(\"Max weight: {0}\".format(max(weights)))\n",
    "print(\"Min weight: {0}\".format(min(weights)))\n",
    "plt.hist(weights, bins=30, log=True)\n",
    "plt.show()\n",
    "plt.hist(weights, bins=30)\n",
    "plt.show()\n",
    "\n",
    "biases = []\n",
    "\n",
    "for filename in glob.glob('../../lab2/cpre487-587-dnn-framework-main/data/model/*biases.bin'):\n",
    "    f = open(filename, mode=\"rb\")\n",
    "\n",
    "    biases = np.fromfile(f, dtype=np.float32)\n",
    "    f.close()\n",
    "\n",
    "print(\"Max bias: {0}\".format(max(biases)))\n",
    "print(\"Min bias: {0}\".format(min(biases)))\n",
    "\n",
    "inputs = []\n",
    "\n",
    "for filename in glob.glob('../../lab2/cpre487-587-dnn-framework-main/data/*image_*.bin'):\n",
    "    f = open(filename, mode=\"rb\")\n",
    "\n",
    "    inputs = np.fromfile(f, dtype=np.float32)\n",
    "    f.close()\n",
    "\n",
    "print(\"Max input: {0}\".format(max(inputs)))\n",
    "print(\"Min input: {0}\".format(min(inputs)))\n",
    "\n",
    "plt.hist(inputs, bins=30, log=True)\n",
    "plt.show()\n",
    "plt.hist(inputs, bins=30)\n",
    "plt.show()"
   ]
  },
  {
   "cell_type": "code",
   "execution_count": 15,
   "metadata": {},
   "outputs": [],
   "source": [
    "# from tiny_imagenet import TinyImagenetDataset\n",
    "\n",
    "# tiny_imagenet_builder = TinyImagenetDataset()\n",
    "# tiny_imagenet_builder.download_and_prepare(download_dir=\"~/tensorflow-datasets/downloads\")\n",
    "\n",
    "# ds = tiny_imagenet_builder.as_dataset()[\"train\"]\n",
    "# ds = ds.shuffle(1024)\n",
    "\n",
    "# activations = []\n",
    "\n",
    "# for image in ds.take(1000):\n",
    "#     for act in image['image'].numpy().flatten():\n",
    "#         #print(act)\n",
    "#         activations.append(act)\n",
    "\n",
    "# print(\"Max activation: {0}\".format(max(activations)))\n",
    "# print(\"Min activation: {0}\".format(min(activations)))\n",
    "\n",
    "# plt.hist(activations, bins=10)\n",
    "# plt.show()"
   ]
  },
  {
   "cell_type": "code",
   "execution_count": 21,
   "metadata": {},
   "outputs": [],
   "source": [
    "import os\n",
    "\n",
    "ABSMAX_WEIGHT = 1.3241188526153564\n",
    "ABSMAX_BIAS = 0.23974871635437012\n",
    "ABSMAX_INPUT = 1.0\n",
    "uint8_max = 127\n",
    "int8_max = 255\n",
    "int32_max = 2147483647\n",
    "\n",
    "def quantize(input, scale):\n",
    "    return int(scale * input)\n",
    "\n",
    "def dequantize(input, scale):\n",
    "    return float(input / scale)\n",
    "\n",
    "def quantizeArray(input, scale):\n",
    "    array = np.zeros(np.size(input))\n",
    "    for index, element in enumerate(input):\n",
    "        array[index] = quantize(element, scale)\n",
    "    \n",
    "    return array\n",
    "\n",
    "def dequantizeArray(input, scale):\n",
    "    array = np.zeros(np.size(input))\n",
    "    for index, element in enumerate(input):\n",
    "        array[index] = dequantize(element, scale)\n",
    "\n",
    "    return array"
   ]
  },
  {
   "cell_type": "code",
   "execution_count": 17,
   "metadata": {},
   "outputs": [],
   "source": [
    "for filename in glob.glob('../../lab2/cpre487-587-dnn-framework-main/data/model/*weights.bin'):\n",
    "    f = open(filename, mode=\"rb\")\n",
    "\n",
    "    weights = np.fromfile(f, dtype=np.float32)\n",
    "    weights = quantizeArray(weights, int8_max / ABSMAX_WEIGHT)\n",
    "    weights.astype('int8').tofile('../../lab2/cpre487-587-dnn-framework-main/data/quantized-model/{0}'.format(os.path.basename(filename)))\n",
    "    f.close()"
   ]
  },
  {
   "cell_type": "code",
   "execution_count": 18,
   "metadata": {},
   "outputs": [],
   "source": [
    "\n",
    "for filename in glob.glob('../../lab2/cpre487-587-dnn-framework-main/data/model/*biases.bin'):\n",
    "    f = open(filename, mode=\"rb\")\n",
    "\n",
    "    biases = np.fromfile(f, dtype=np.float32)\n",
    "    biases = quantizeArray(biases, int32_max / ABSMAX_BIAS)\n",
    "    biases.astype('int32').tofile('../../lab2/cpre487-587-dnn-framework-main/data/quantized-model/{0}'.format(os.path.basename(filename)))\n",
    "    f.close()"
   ]
  },
  {
   "cell_type": "code",
   "execution_count": 19,
   "metadata": {},
   "outputs": [],
   "source": [
    "\n",
    "for index, filename in enumerate(glob.glob('../../lab2/cpre487-587-dnn-framework-main/data/image*.bin')):\n",
    "    f = open(filename, mode=\"rb\")\n",
    "\n",
    "    inputs = np.fromfile(f, dtype=np.float32)\n",
    "    inputs = quantizeArray(inputs, uint8_max / ABSMAX_INPUT)\n",
    "    inputs.astype('uint8').tofile('../../lab2/cpre487-587-dnn-framework-main/data/quantized_{0}'.format(os.path.basename(filename)))\n",
    "    f.close()"
   ]
  },
  {
   "cell_type": "markdown",
   "metadata": {},
   "source": [
    "## Comparison"
   ]
  },
  {
   "cell_type": "code",
   "execution_count": 26,
   "metadata": {},
   "outputs": [
    {
     "name": "stdout",
     "output_type": "stream",
     "text": [
      "1:\n",
      "\toriginal: -0.021224262192845345\n",
      "\tquantized: -4\n",
      "\tdequantized: -0.02077049180573108\n",
      "\t% error: 2.1846877356512917%\n",
      "\n",
      "2:\n",
      "\toriginal: 0.007459769491106272\n",
      "\tquantized: 1\n",
      "\tdequantized: 0.00519262295143277\n",
      "\t% error: 43.66091204538433%\n",
      "\n",
      "3:\n",
      "\toriginal: 0.04947111755609512\n",
      "\tquantized: 9\n",
      "\tdequantized: 0.046733606562894936\n",
      "\t% error: 5.857692556888361%\n",
      "\n",
      "4:\n",
      "\toriginal: 0.09378886222839355\n",
      "\tquantized: 18\n",
      "\tdequantized: 0.09346721312578987\n",
      "\t% error: 0.34413040877853235%\n",
      "\n",
      "5:\n",
      "\toriginal: 0.08250445127487183\n",
      "\tquantized: 15\n",
      "\tdequantized: 0.07788934427149155\n",
      "\t% error: 5.925209727397155%\n",
      "\n",
      "6:\n",
      "\toriginal: 0.03329572454094887\n",
      "\tquantized: 6\n",
      "\tdequantized: 0.03115573770859662\n",
      "\t% error: 6.868676493452992%\n",
      "\n",
      "7:\n",
      "\toriginal: -0.02929776906967163\n",
      "\tquantized: -5\n",
      "\tdequantized: -0.02596311475716385\n",
      "\t% error: 12.843814556524533%\n",
      "\n",
      "8:\n",
      "\toriginal: 0.07652157545089722\n",
      "\tquantized: 14\n",
      "\tdequantized: 0.07269672132005879\n",
      "\t% error: 5.261384642092595%\n",
      "\n",
      "9:\n",
      "\toriginal: -0.05246942490339279\n",
      "\tquantized: -10\n",
      "\tdequantized: -0.0519262295143277\n",
      "\t% error: 1.04609056761036%\n",
      "\n",
      "10:\n",
      "\toriginal: 0.03597576171159744\n",
      "\tquantized: 6\n",
      "\tdequantized: 0.03115573770859662\n",
      "\t% error: 15.470742654476963%\n",
      "\n"
     ]
    }
   ],
   "source": [
    "f_original = open('../../lab2/cpre487-587-dnn-framework-main/data/model/conv1_weights.bin')\n",
    "f_quantized = open('../../lab2/cpre487-587-dnn-framework-main/data/quantized-model/conv1_weights.bin')\n",
    "original = np.fromfile(f_original, dtype=np.float32)\n",
    "quantized = np.fromfile(f_quantized, dtype=np.int8)\n",
    "dequantized = dequantizeArray(quantized, int8_max / ABSMAX_WEIGHT)\n",
    "f_original.close()\n",
    "f_quantized.close()\n",
    "\n",
    "for i in range(0, 10):\n",
    "    print('{4}:\\n\\toriginal: {0}\\n\\tquantized: {1}\\n\\tdequantized: {2}\\n\\t% error: {3}%\\n'\n",
    "          .format(original[i], quantized[i], dequantized[i], (original[i] - dequantized[i]) / dequantized[i] * 100, i + 1))"
   ]
  },
  {
   "cell_type": "code",
   "execution_count": 28,
   "metadata": {},
   "outputs": [
    {
     "name": "stdout",
     "output_type": "stream",
     "text": [
      "1:\n",
      "\toriginal: 0.008284690789878368\n",
      "\tquantized: 74207855\n",
      "\tdequantized: 0.008284690784265247\n",
      "\t% error: 6.77529339985972e-08%\n",
      "\n",
      "2:\n",
      "\toriginal: 0.007637986447662115\n",
      "\tquantized: 68415177\n",
      "\tdequantized: 0.007637986388311261\n",
      "\t% error: 7.770484401923541e-07%\n",
      "\n",
      "3:\n",
      "\toriginal: -0.00736837787553668\n",
      "\tquantized: -66000232\n",
      "\tdequantized: -0.00736837783290958\n",
      "\t% error: 5.78514044755304e-07%\n",
      "\n",
      "4:\n",
      "\toriginal: 0.030106404796242714\n",
      "\tquantized: 269669898\n",
      "\tdequantized: 0.03010640475667097\n",
      "\t% error: 1.3143962391403857e-07%\n",
      "\n",
      "5:\n",
      "\toriginal: 0.0026063111145049334\n",
      "\tquantized: 23345319\n",
      "\tdequantized: 0.002606311005418933\n",
      "\t% error: 4.185455994648968e-06%\n",
      "\n",
      "6:\n",
      "\toriginal: 0.05011480674147606\n",
      "\tquantized: 448889694\n",
      "\tdequantized: 0.05011480672812126\n",
      "\t% error: 2.6648404548049863e-08%\n",
      "\n",
      "7:\n",
      "\toriginal: -0.028978634625673294\n",
      "\tquantized: -259568205\n",
      "\tdequantized: -0.028978634618286335\n",
      "\t% error: 2.549105296804719e-08%\n",
      "\n",
      "8:\n",
      "\toriginal: 0.028560960665345192\n",
      "\tquantized: 255827004\n",
      "\tdequantized: 0.028560960593794132\n",
      "\t% error: 2.505204962579595e-07%\n",
      "\n",
      "9:\n",
      "\toriginal: 0.045510850846767426\n",
      "\tquantized: 407651016\n",
      "\tdequantized: 0.04551085077788012\n",
      "\t% error: 1.5136457439191354e-07%\n",
      "\n",
      "10:\n",
      "\toriginal: -0.04138311371207237\n",
      "\tquantized: -370677938\n",
      "\tdequantized: -0.04138311364584039\n",
      "\t% error: 1.600459205194156e-07%\n",
      "\n"
     ]
    }
   ],
   "source": [
    "f_original = open('../../lab2/cpre487-587-dnn-framework-main/data/model/conv1_biases.bin')\n",
    "f_quantized = open('../../lab2/cpre487-587-dnn-framework-main/data/quantized-model/conv1_biases.bin')\n",
    "original = np.fromfile(f_original, dtype=np.float32)\n",
    "quantized = np.fromfile(f_quantized, dtype=np.int32)\n",
    "dequantized = dequantizeArray(quantized, int32_max / ABSMAX_BIAS)\n",
    "f_original.close()\n",
    "f_quantized.close()\n",
    "\n",
    "for i in range(0, 10):\n",
    "    print('{4}:\\n\\toriginal: {0}\\n\\tquantized: {1}\\n\\tdequantized: {2}\\n\\t% error: {3}%\\n'\n",
    "          .format(original[i], quantized[i], dequantized[i], (original[i] - dequantized[i]) / dequantized[i] * 100, i + 1))"
   ]
  },
  {
   "cell_type": "code",
   "execution_count": 31,
   "metadata": {},
   "outputs": [
    {
     "name": "stdout",
     "output_type": "stream",
     "text": [
      "1:\n",
      "\toriginal: 0.14901961386203766\n",
      "\tquantized: 18\n",
      "\tdequantized: 0.14173228346456693\n",
      "\t% error: 5.14161644710435%\n",
      "\n",
      "2:\n",
      "\toriginal: 0.1921568661928177\n",
      "\tquantized: 24\n",
      "\tdequantized: 0.1889763779527559\n",
      "\t% error: 1.683008360366028%\n",
      "\n",
      "3:\n",
      "\toriginal: 0.2078431397676468\n",
      "\tquantized: 26\n",
      "\tdequantized: 0.2047244094488189\n",
      "\t% error: 1.5233798095813178%\n",
      "\n",
      "4:\n",
      "\toriginal: 0.7215686440467834\n",
      "\tquantized: 91\n",
      "\tdequantized: 0.7165354330708661\n",
      "\t% error: 0.7024371361994554%\n",
      "\n",
      "5:\n",
      "\toriginal: 0.7098039388656616\n",
      "\tquantized: 90\n",
      "\tdequantized: 0.7086614173228346\n",
      "\t% error: 0.16122248437670075%\n",
      "\n",
      "6:\n",
      "\toriginal: 0.7450980544090271\n",
      "\tquantized: 94\n",
      "\tdequantized: 0.7401574803149606\n",
      "\t% error: 0.6675030956877015%\n",
      "\n",
      "7:\n",
      "\toriginal: 0.7960784435272217\n",
      "\tquantized: 101\n",
      "\tdequantized: 0.7952755905511811\n",
      "\t% error: 0.1009527999575737%\n",
      "\n",
      "8:\n",
      "\toriginal: 0.7019608020782471\n",
      "\tquantized: 89\n",
      "\tdequantized: 0.7007874015748031\n",
      "\t% error: 0.16744029655885498%\n",
      "\n",
      "9:\n",
      "\toriginal: 0.7647058963775635\n",
      "\tquantized: 97\n",
      "\tdequantized: 0.7637795275590551\n",
      "\t% error: 0.12128746386656149%\n",
      "\n",
      "10:\n",
      "\toriginal: 0.8470588326454163\n",
      "\tquantized: 107\n",
      "\tdequantized: 0.84251968503937\n",
      "\t% error: 0.538758641091469%\n",
      "\n"
     ]
    }
   ],
   "source": [
    "f_original = open('../../lab2/cpre487-587-dnn-framework-main/data/image_0.bin')\n",
    "f_quantized = open('../../lab2/cpre487-587-dnn-framework-main/data/quantized_image_0.bin')\n",
    "original = np.fromfile(f_original, dtype=np.float32)\n",
    "quantized = np.fromfile(f_quantized, dtype=np.uint8)\n",
    "dequantized = dequantizeArray(quantized, uint8_max / ABSMAX_INPUT)\n",
    "f_original.close()\n",
    "f_quantized.close()\n",
    "\n",
    "for i in range(0, 10):\n",
    "    print('{4}:\\n\\toriginal: {0}\\n\\tquantized: {1}\\n\\tdequantized: {2}\\n\\t% error: {3}%\\n'\n",
    "          .format(original[i], quantized[i], dequantized[i], (original[i] - dequantized[i]) / dequantized[i] * 100, i + 1))"
   ]
  }
 ],
 "metadata": {
  "kernelspec": {
   "display_name": "venv",
   "language": "python",
   "name": "python3"
  },
  "language_info": {
   "codemirror_mode": {
    "name": "ipython",
    "version": 3
   },
   "file_extension": ".py",
   "mimetype": "text/x-python",
   "name": "python",
   "nbconvert_exporter": "python",
   "pygments_lexer": "ipython3",
   "version": "3.6.8"
  },
  "orig_nbformat": 4
 },
 "nbformat": 4,
 "nbformat_minor": 2
}
