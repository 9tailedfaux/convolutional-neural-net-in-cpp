{
 "cells": [
  {
   "cell_type": "code",
   "execution_count": 1,
   "metadata": {},
   "outputs": [
    {
     "name": "stdout",
     "output_type": "stream",
     "text": [
      "-=-=-=-=-=-=-=- LAYER 1 ATTRIBUTES -=-=-=-=-=-=-=-\n",
      "Output weights:  27\n",
      "Total weights:  1728\n",
      "Activations:  136\n",
      "PEs per output:  0.10546875\n",
      "PEs required: 7.0\n",
      "MAX PE UTILIZATION (%) 2.734375\n",
      "-=-=-=-=-=-=-=- LAYER 2 ATTRIBUTES -=-=-=-=-=-=-=-\n",
      "Output weights:  448\n",
      "Total weights:  28672\n",
      "Activations:  136\n",
      "PEs per output:  1.75\n",
      "PEs required: 112.0\n",
      "MAX PE UTILIZATION (%) 43.75\n",
      "-=-=-=-=-=-=-=- LAYER 3 ATTRIBUTES -=-=-=-=-=-=-=-\n",
      "Output weights:  448\n",
      "Total weights:  7168\n",
      "Activations:  40\n",
      "PEs per output:  1.75\n",
      "PEs required: 28.0\n",
      "MAX PE UTILIZATION (%) 10.9375\n"
     ]
    },
    {
     "data": {
      "image/png": "[encoded data removed]",
      "text/plain": [
       "<Figure size 432x288 with 1 Axes>"
      ]
     },
     "metadata": {
      "needs_background": "light"
     },
     "output_type": "display_data"
    }
   ],
   "source": [
    "import numpy as np\n",
    "import matplotlib.pyplot as plt\n",
    "\n",
    "MAX_PES = 256\n",
    "BATCH_SIZE = 8\n",
    "\n",
    "def calculate__output_weights(input_channels, filter_width, filter_height):\n",
    "    output_weights = input_channels * filter_width * filter_height\n",
    "    print(\"Output weights: \", output_weights)\n",
    "    return output_weights\n",
    "\n",
    "def calculate_total_weights(input_channels, output_channels, filter_width, filter_height):\n",
    "    total_weights = input_channels * output_channels * filter_width * filter_height\n",
    "    print(\"Total weights: \", total_weights)\n",
    "    return total_weights\n",
    "\n",
    "def calculate_max_PE_utilization(batch_size, total_weights, output_weights, output_channels):\n",
    "    activations = batch_size^2 * output_channels\n",
    "    print(\"Activations: \", activations)\n",
    "\n",
    "    pes_per_output = output_weights / MAX_PES # 256 for the number of given PEs\n",
    "    print(\"PEs per output: \", pes_per_output)\n",
    "\n",
    "    layer_pes = np.ceil(pes_per_output * output_channels)\n",
    "    print(\"PEs required:\", layer_pes)\n",
    "\n",
    "    pe_util = (layer_pes / MAX_PES) * 100\n",
    "    print(\"MAX PE UTILIZATION (%)\", pe_util)\n",
    "\n",
    "    return pe_util\n",
    "\n",
    "# LAYER 1 Variables\n",
    "input_chans = 3\n",
    "output_chans = 64\n",
    "f_width = 3\n",
    "f_height = 3\n",
    "\n",
    "print(\"-=-=-=-=-=-=-=- LAYER 1 ATTRIBUTES -=-=-=-=-=-=-=-\")\n",
    "\n",
    "output_weights = calculate__output_weights(input_chans, f_width, f_height)\n",
    "total_weights = calculate_total_weights(input_chans, output_chans, f_width, f_height)\n",
    "layer_1 = calculate_max_PE_utilization(BATCH_SIZE, total_weights, output_weights, output_chans)\n",
    "\n",
    "# LAYER 2 Variables\n",
    "input_chans = 64\n",
    "output_chans = 64\n",
    "f_width = 1\n",
    "f_height = 7\n",
    "\n",
    "print(\"-=-=-=-=-=-=-=- LAYER 2 ATTRIBUTES -=-=-=-=-=-=-=-\")\n",
    "\n",
    "output_weights = calculate__output_weights(input_chans, f_width, f_height)\n",
    "total_weights = calculate_total_weights(input_chans, output_chans, f_width, f_height)\n",
    "layer_2 = calculate_max_PE_utilization(BATCH_SIZE, total_weights, output_weights, output_chans)\n",
    "\n",
    "# LAYER 2 Variables\n",
    "input_chans = 64\n",
    "output_chans = 16\n",
    "f_width = 7\n",
    "f_height = 1\n",
    "\n",
    "print(\"-=-=-=-=-=-=-=- LAYER 3 ATTRIBUTES -=-=-=-=-=-=-=-\")\n",
    "\n",
    "output_weights = calculate__output_weights(input_chans, f_width, f_height)\n",
    "total_weights = calculate_total_weights(input_chans, output_chans, f_width, f_height)\n",
    "layer_3 = calculate_max_PE_utilization(BATCH_SIZE, total_weights, output_weights, output_chans)\n",
    "\n",
    "layers = ['Layer 1', 'Layer 2', 'Layer 3']\n",
    "results = [layer_1, layer_2, layer_3]\n",
    "title = \"Max PE Utilization for Conv3D Layers\"\n",
    "\n",
    "plt.bar(layers, results, color=['blue', 'green', 'red'])\n",
    "plt.title(title)\n",
    "plt.xlabel('Layers')\n",
    "plt.ylabel('Max PE Utilization (%)')\n",
    "plt.ylim(0, 100)\n",
    "plt.show()"
   ]
  }
 ],
 "metadata": {
  "kernelspec": {
   "display_name": "Python 3",
   "language": "python",
   "name": "python3"
  },
  "language_info": {
   "codemirror_mode": {
    "name": "ipython",
    "version": 3
   },
   "file_extension": ".py",
   "mimetype": "text/x-python",
   "name": "python",
   "nbconvert_exporter": "python",
   "pygments_lexer": "ipython3",
   "version": "3.7.4"
  }
 },
 "nbformat": 4,
 "nbformat_minor": 2
}
